{
  "nbformat": 4,
  "nbformat_minor": 0,
  "metadata": {
    "colab": {
      "name": "Linear Regression With Keras.ipynb",
      "version": "0.3.2",
      "views": {},
      "default_view": {},
      "provenance": []
    },
    "kernelspec": {
      "display_name": "Python 3",
      "language": "python",
      "name": "python3"
    }
  },
  "cells": [
    {
      "metadata": {
        "id": "Fn3z2iF_Z6uy",
        "colab_type": "code",
        "colab": {
          "autoexec": {
            "startup": false,
            "wait_interval": 0
          },
          "base_uri": "https://localhost:8080/",
          "height": 95
        },
        "outputId": "50acfa4c-883a-4946-c163-49bb65b13dd1",
        "executionInfo": {
          "status": "ok",
          "timestamp": 1531900932766,
          "user_tz": -300,
          "elapsed": 29139,
          "user": {
            "displayName": "Muhammad Shayan",
            "photoUrl": "//lh6.googleusercontent.com/-OQHqCiutbHI/AAAAAAAAAAI/AAAAAAAAAmM/a_Irg7ovtCk/s50-c-k-no/photo.jpg",
            "userId": "117658589879094178010"
          }
        }
      },
      "cell_type": "code",
      "source": [
        "from keras.models import Sequential\n",
        "from keras.layers import Dense \n",
        "from keras.optimizers import Adam, SGD\n",
        "\n",
        "%matplotlib inline\n",
        "import matplotlib.pyplot as plt\n",
        "import numpy as np\n",
        "import pandas as pd\n",
        "\n",
        "from google.colab import files\n",
        "uploaded=files.upload()"
      ],
      "execution_count": 1,
      "outputs": [
        {
          "output_type": "stream",
          "text": [
            "Using TensorFlow backend.\n"
          ],
          "name": "stderr"
        },
        {
          "output_type": "display_data",
          "data": {
            "text/html": [
              "\n",
              "     <input type=\"file\" id=\"files-d8a81cf2-8929-4b89-ad66-e9d7658af5c5\" name=\"files[]\" multiple disabled />\n",
              "     <output id=\"result-d8a81cf2-8929-4b89-ad66-e9d7658af5c5\">\n",
              "      Upload widget is only available when the cell has been executed in the\n",
              "      current browser session. Please rerun this cell to enable.\n",
              "      </output>\n",
              "      <script src=\"/nbextensions/google.colab/files.js\"></script> "
            ],
            "text/plain": [
              "<IPython.core.display.HTML object>"
            ]
          },
          "metadata": {
            "tags": []
          }
        },
        {
          "output_type": "stream",
          "text": [
            "Saving weight-height.csv to weight-height.csv\n"
          ],
          "name": "stdout"
        }
      ]
    },
    {
      "metadata": {
        "id": "wM6VjNmAZ6vP",
        "colab_type": "code",
        "colab": {
          "autoexec": {
            "startup": false,
            "wait_interval": 0
          }
        }
      },
      "cell_type": "code",
      "source": [
        "df=pd.read_csv('weight-height.csv')"
      ],
      "execution_count": 0,
      "outputs": []
    },
    {
      "metadata": {
        "id": "_CwjogUjZ6vb",
        "colab_type": "code",
        "colab": {
          "autoexec": {
            "startup": false,
            "wait_interval": 0
          }
        }
      },
      "cell_type": "code",
      "source": [
        "X=df[['Height']].values\n",
        "y_true=df[['Weight']].values"
      ],
      "execution_count": 0,
      "outputs": []
    },
    {
      "metadata": {
        "id": "YBUubF02Z6vo",
        "colab_type": "code",
        "colab": {
          "autoexec": {
            "startup": false,
            "wait_interval": 0
          },
          "base_uri": "https://localhost:8080/",
          "height": 149
        },
        "outputId": "94402f35-4467-4d1d-8f61-b05eb799e407",
        "executionInfo": {
          "status": "ok",
          "timestamp": 1531900960829,
          "user_tz": -300,
          "elapsed": 3588,
          "user": {
            "displayName": "Muhammad Shayan",
            "photoUrl": "//lh6.googleusercontent.com/-OQHqCiutbHI/AAAAAAAAAAI/AAAAAAAAAmM/a_Irg7ovtCk/s50-c-k-no/photo.jpg",
            "userId": "117658589879094178010"
          }
        }
      },
      "cell_type": "code",
      "source": [
        "X"
      ],
      "execution_count": 4,
      "outputs": [
        {
          "output_type": "execute_result",
          "data": {
            "text/plain": [
              "array([[73.84701702],\n",
              "       [68.78190405],\n",
              "       [74.11010539],\n",
              "       ...,\n",
              "       [63.86799221],\n",
              "       [69.03424313],\n",
              "       [61.94424588]])"
            ]
          },
          "metadata": {
            "tags": []
          },
          "execution_count": 4
        }
      ]
    },
    {
      "metadata": {
        "id": "2XEAM7HWZ6v3",
        "colab_type": "code",
        "colab": {
          "autoexec": {
            "startup": false,
            "wait_interval": 0
          }
        }
      },
      "cell_type": "code",
      "source": [
        "model = Sequential()\n",
        "model.add(Dense(1, input_shape=(1,)))"
      ],
      "execution_count": 0,
      "outputs": []
    },
    {
      "metadata": {
        "id": "9DrToUGJZ6wB",
        "colab_type": "code",
        "colab": {
          "autoexec": {
            "startup": false,
            "wait_interval": 0
          },
          "base_uri": "https://localhost:8080/",
          "height": 187
        },
        "outputId": "452aa635-b13f-43fe-e856-b273de918985",
        "executionInfo": {
          "status": "ok",
          "timestamp": 1531900971978,
          "user_tz": -300,
          "elapsed": 1496,
          "user": {
            "displayName": "Muhammad Shayan",
            "photoUrl": "//lh6.googleusercontent.com/-OQHqCiutbHI/AAAAAAAAAAI/AAAAAAAAAmM/a_Irg7ovtCk/s50-c-k-no/photo.jpg",
            "userId": "117658589879094178010"
          }
        }
      },
      "cell_type": "code",
      "source": [
        "model.summary()"
      ],
      "execution_count": 6,
      "outputs": [
        {
          "output_type": "stream",
          "text": [
            "_________________________________________________________________\n",
            "Layer (type)                 Output Shape              Param #   \n",
            "=================================================================\n",
            "dense_1 (Dense)              (None, 1)                 2         \n",
            "=================================================================\n",
            "Total params: 2\n",
            "Trainable params: 2\n",
            "Non-trainable params: 0\n",
            "_________________________________________________________________\n"
          ],
          "name": "stdout"
        }
      ]
    },
    {
      "metadata": {
        "id": "zg3PYlWAZ6wP",
        "colab_type": "code",
        "colab": {
          "autoexec": {
            "startup": false,
            "wait_interval": 0
          }
        }
      },
      "cell_type": "code",
      "source": [
        "model.compile(Adam(lr=0.8), 'mean_squared_error')"
      ],
      "execution_count": 0,
      "outputs": []
    },
    {
      "metadata": {
        "id": "ru5PXqDKZ6wb",
        "colab_type": "code",
        "colab": {
          "autoexec": {
            "startup": false,
            "wait_interval": 0
          },
          "base_uri": "https://localhost:8080/",
          "height": 1545
        },
        "outputId": "1f39f49d-dfa1-4cce-cf09-11c56879eb43",
        "executionInfo": {
          "status": "ok",
          "timestamp": 1531901012946,
          "user_tz": -300,
          "elapsed": 13904,
          "user": {
            "displayName": "Muhammad Shayan",
            "photoUrl": "//lh6.googleusercontent.com/-OQHqCiutbHI/AAAAAAAAAAI/AAAAAAAAAmM/a_Irg7ovtCk/s50-c-k-no/photo.jpg",
            "userId": "117658589879094178010"
          }
        }
      },
      "cell_type": "code",
      "source": [
        "model.fit(X,y_true, epochs=40)"
      ],
      "execution_count": 8,
      "outputs": [
        {
          "output_type": "stream",
          "text": [
            "Epoch 1/40\n",
            "10000/10000 [==============================] - 0s 43us/step - loss: 1417.6038\n",
            "Epoch 2/40\n",
            "10000/10000 [==============================] - 0s 33us/step - loss: 562.5330\n",
            "Epoch 3/40\n",
            "10000/10000 [==============================] - 0s 36us/step - loss: 535.8807\n",
            "Epoch 4/40\n",
            "10000/10000 [==============================] - 0s 35us/step - loss: 494.0696\n",
            "Epoch 5/40\n",
            "10000/10000 [==============================] - 0s 34us/step - loss: 468.1345\n",
            "Epoch 6/40\n",
            "10000/10000 [==============================] - 0s 35us/step - loss: 423.2988\n",
            "Epoch 7/40\n",
            "10000/10000 [==============================] - 0s 32us/step - loss: 390.8718\n",
            "Epoch 8/40\n",
            "10000/10000 [==============================] - 0s 32us/step - loss: 374.9202\n",
            "Epoch 9/40\n",
            "10000/10000 [==============================] - 0s 31us/step - loss: 335.8046\n",
            "Epoch 10/40\n",
            "10000/10000 [==============================] - 0s 30us/step - loss: 295.5512\n",
            "Epoch 11/40\n",
            "10000/10000 [==============================] - 0s 32us/step - loss: 273.8320\n",
            "Epoch 12/40\n",
            "10000/10000 [==============================] - 0s 32us/step - loss: 265.4455\n",
            "Epoch 13/40\n",
            "10000/10000 [==============================] - 0s 30us/step - loss: 251.7328\n",
            "Epoch 14/40\n",
            "10000/10000 [==============================] - 0s 32us/step - loss: 238.6712\n",
            "Epoch 15/40\n",
            "10000/10000 [==============================] - 0s 31us/step - loss: 210.3267\n",
            "Epoch 16/40\n",
            "10000/10000 [==============================] - 0s 32us/step - loss: 202.8243\n",
            "Epoch 17/40\n",
            " 1600/10000 [===>..........................] - ETA: 0s - loss: 207.8249"
          ],
          "name": "stdout"
        },
        {
          "output_type": "stream",
          "text": [
            "10000/10000 [==============================] - 0s 32us/step - loss: 211.6857\n",
            "Epoch 18/40\n",
            "10000/10000 [==============================] - 0s 32us/step - loss: 194.1775\n",
            "Epoch 19/40\n",
            "10000/10000 [==============================] - 0s 30us/step - loss: 192.6331\n",
            "Epoch 20/40\n",
            "10000/10000 [==============================] - 0s 32us/step - loss: 187.1039\n",
            "Epoch 21/40\n",
            "10000/10000 [==============================] - 0s 32us/step - loss: 180.7912\n",
            "Epoch 22/40\n",
            "10000/10000 [==============================] - 0s 32us/step - loss: 184.1684\n",
            "Epoch 23/40\n",
            "10000/10000 [==============================] - 0s 32us/step - loss: 176.3162\n",
            "Epoch 24/40\n",
            "10000/10000 [==============================] - 0s 31us/step - loss: 182.3306\n",
            "Epoch 25/40\n",
            "10000/10000 [==============================] - 0s 30us/step - loss: 194.7035\n",
            "Epoch 26/40\n",
            "10000/10000 [==============================] - 0s 31us/step - loss: 185.0860\n",
            "Epoch 27/40\n",
            "10000/10000 [==============================] - 0s 32us/step - loss: 174.4840\n",
            "Epoch 28/40\n",
            "10000/10000 [==============================] - 0s 32us/step - loss: 185.3502\n",
            "Epoch 29/40\n",
            "10000/10000 [==============================] - 0s 31us/step - loss: 169.4263\n",
            "Epoch 30/40\n",
            "10000/10000 [==============================] - 0s 31us/step - loss: 171.2233\n",
            "Epoch 31/40\n",
            "10000/10000 [==============================] - 0s 30us/step - loss: 192.7058\n",
            "Epoch 32/40\n",
            "10000/10000 [==============================] - 0s 31us/step - loss: 166.1601\n",
            "Epoch 33/40\n",
            " 6208/10000 [=================>............] - ETA: 0s - loss: 181.0576"
          ],
          "name": "stdout"
        },
        {
          "output_type": "stream",
          "text": [
            "10000/10000 [==============================] - 0s 34us/step - loss: 181.4011\n",
            "Epoch 34/40\n",
            "10000/10000 [==============================] - 0s 30us/step - loss: 176.6519\n",
            "Epoch 35/40\n",
            "10000/10000 [==============================] - 0s 31us/step - loss: 180.3118\n",
            "Epoch 36/40\n",
            "10000/10000 [==============================] - 0s 32us/step - loss: 180.1669\n",
            "Epoch 37/40\n",
            "10000/10000 [==============================] - 0s 30us/step - loss: 192.9534\n",
            "Epoch 38/40\n",
            "10000/10000 [==============================] - 0s 33us/step - loss: 171.7212\n",
            "Epoch 39/40\n",
            "10000/10000 [==============================] - 0s 33us/step - loss: 174.3878\n",
            "Epoch 40/40\n",
            "10000/10000 [==============================] - 0s 31us/step - loss: 173.6159\n"
          ],
          "name": "stdout"
        },
        {
          "output_type": "execute_result",
          "data": {
            "text/plain": [
              "<keras.callbacks.History at 0x7f2ec1172198>"
            ]
          },
          "metadata": {
            "tags": []
          },
          "execution_count": 8
        }
      ]
    },
    {
      "metadata": {
        "id": "7T9Xk3mgZ6w0",
        "colab_type": "code",
        "colab": {
          "autoexec": {
            "startup": false,
            "wait_interval": 0
          }
        }
      },
      "cell_type": "code",
      "source": [
        "y_pred=model.predict(X)"
      ],
      "execution_count": 0,
      "outputs": []
    },
    {
      "metadata": {
        "id": "_OntW-LvZ6xD",
        "colab_type": "code",
        "colab": {
          "autoexec": {
            "startup": false,
            "wait_interval": 0
          },
          "base_uri": "https://localhost:8080/",
          "height": 313
        },
        "outputId": "7698f0ed-618f-469d-f464-d5f711575cc4",
        "executionInfo": {
          "status": "ok",
          "timestamp": 1531901029382,
          "user_tz": -300,
          "elapsed": 1229,
          "user": {
            "displayName": "Muhammad Shayan",
            "photoUrl": "//lh6.googleusercontent.com/-OQHqCiutbHI/AAAAAAAAAAI/AAAAAAAAAmM/a_Irg7ovtCk/s50-c-k-no/photo.jpg",
            "userId": "117658589879094178010"
          }
        }
      },
      "cell_type": "code",
      "source": [
        "df.plot(kind='scatter',\n",
        "       x='Height',\n",
        "       y='Weight', title='Weight and Height in adults')\n",
        "plt.plot(X, y_pred, color='red', linewidth=3)"
      ],
      "execution_count": 10,
      "outputs": [
        {
          "output_type": "execute_result",
          "data": {
            "text/plain": [
              "[<matplotlib.lines.Line2D at 0x7f2ec0fa8ba8>]"
            ]
          },
          "metadata": {
            "tags": []
          },
          "execution_count": 10
        },
        {
          "output_type": "display_data",
          "data": {
            "image/png": "[encoded data removed]",
            "text/plain": [
              "<matplotlib.figure.Figure at 0x7f2ee9b2be48>"
            ]
          },
          "metadata": {
            "tags": []
          }
        }
      ]
    },
    {
      "metadata": {
        "id": "ipwyVWP1Z6xT",
        "colab_type": "code",
        "colab": {
          "autoexec": {
            "startup": false,
            "wait_interval": 0
          }
        }
      },
      "cell_type": "code",
      "source": [
        "w,b=model.get_weights()"
      ],
      "execution_count": 0,
      "outputs": []
    },
    {
      "metadata": {
        "id": "9cEdQagLZ6xf",
        "colab_type": "code",
        "colab": {
          "autoexec": {
            "startup": false,
            "wait_interval": 0
          },
          "base_uri": "https://localhost:8080/",
          "height": 36
        },
        "outputId": "297aba53-f4b0-4ebb-d650-acb3937ec6bb",
        "executionInfo": {
          "status": "ok",
          "timestamp": 1531901040628,
          "user_tz": -300,
          "elapsed": 1080,
          "user": {
            "displayName": "Muhammad Shayan",
            "photoUrl": "//lh6.googleusercontent.com/-OQHqCiutbHI/AAAAAAAAAAI/AAAAAAAAAmM/a_Irg7ovtCk/s50-c-k-no/photo.jpg",
            "userId": "117658589879094178010"
          }
        }
      },
      "cell_type": "code",
      "source": [
        "w"
      ],
      "execution_count": 12,
      "outputs": [
        {
          "output_type": "execute_result",
          "data": {
            "text/plain": [
              "array([[7.8066745]], dtype=float32)"
            ]
          },
          "metadata": {
            "tags": []
          },
          "execution_count": 12
        }
      ]
    },
    {
      "metadata": {
        "id": "o9HFw8B-Z6xs",
        "colab_type": "code",
        "colab": {
          "autoexec": {
            "startup": false,
            "wait_interval": 0
          },
          "base_uri": "https://localhost:8080/",
          "height": 36
        },
        "outputId": "9a4ca9e8-307d-4d34-9697-1f3953565bea",
        "executionInfo": {
          "status": "ok",
          "timestamp": 1531901043763,
          "user_tz": -300,
          "elapsed": 1186,
          "user": {
            "displayName": "Muhammad Shayan",
            "photoUrl": "//lh6.googleusercontent.com/-OQHqCiutbHI/AAAAAAAAAAI/AAAAAAAAAmM/a_Irg7ovtCk/s50-c-k-no/photo.jpg",
            "userId": "117658589879094178010"
          }
        }
      },
      "cell_type": "code",
      "source": [
        "b"
      ],
      "execution_count": 13,
      "outputs": [
        {
          "output_type": "execute_result",
          "data": {
            "text/plain": [
              "array([-347.64478], dtype=float32)"
            ]
          },
          "metadata": {
            "tags": []
          },
          "execution_count": 13
        }
      ]
    },
    {
      "metadata": {
        "id": "NJtB1LLEZ6x2",
        "colab_type": "code",
        "colab": {
          "autoexec": {
            "startup": false,
            "wait_interval": 0
          }
        }
      },
      "cell_type": "code",
      "source": [
        ""
      ],
      "execution_count": 0,
      "outputs": []
    }
  ]
}